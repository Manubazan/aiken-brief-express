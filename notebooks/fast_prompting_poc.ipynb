{
 "cells": [
  {
   "cell_type": "markdown",
   "id": "afba23d5",
   "metadata": {},
   "source": [
    "# Fast Prompting en Acción — POC (Turismo)\n",
    "**Objetivo**: Dado un set de respuestas de clientes, generamos:\n",
    "\n",
    "- Itinerario resumido (7 días)\n",
    "- Mensaje de cotización para WhatsApp\n",
    "- Filtros para HotelDO\n",
    "\n",
    "Probamos 3 variantes de prompting (Baseline, FAST, FAST+Few‑Shot), medimos *tokens* y costo estimado, y comparamos cobertura."
   ]
  },
  {
   "cell_type": "markdown",
   "id": "df56431e",
   "metadata": {},
   "source": [
    "# -- SETUP (correr SIEMPRE primero) --\n",
    "import sys, os\n",
    "sys.path.append(os.path.abspath(\"..\"))   # agrega la carpeta padre al PYTHONPATH\n",
    "import sys\n",
    "print(\"OK, sys.path incluye:\", sys.path[-1])"
   ]
  },
  {
   "cell_type": "markdown",
   "id": "b66e0dd3",
   "metadata": {},
   "source": [
    "# === SETUP (correr PRIMERO) ===\n",
    "from pathlib import Path\n",
    "import sys\n",
    "\n",
    "ROOT = Path.cwd()\n",
    "if ROOT.name == \"notebooks\":   # si la notebook está dentro de /notebooks\n",
    "    ROOT = ROOT.parent         # sube a la raíz del proyecto\n",
    "\n",
    "if str(ROOT) not in sys.path:\n",
    "    sys.path.insert(0, str(ROOT))\n",
    "\n",
    "print(\"ROOT =\", ROOT)\n",
    "print(\"src existe:\", (ROOT / \"src\").exists())\n",
    "print(\"data existe:\", (ROOT / \"data\").exists())\n",
    "print(\"src contiene:\", [p.name for p in (ROOT / \"src\").glob(\"*\")])\n"
   ]
  },
  {
   "cell_type": "markdown",
   "id": "081a1118",
   "metadata": {},
   "source": []
  },
  {
   "cell_type": "code",
   "execution_count": 5,
   "id": "f0deb70c",
   "metadata": {},
   "outputs": [
    {
     "name": "stdout",
     "output_type": "stream",
     "text": [
      "ROOT = c:\\Users\\USUARIO\\Downloads\\fast-prompting-poc\\fast-prompting-poc\n",
      "src existe: True\n",
      "data existe: True\n"
     ]
    }
   ],
   "source": [
    "\n",
    "# === SETUP (correr PRIMERO) ===\n",
    "from pathlib import Path\n",
    "import sys\n",
    "\n",
    "ROOT = Path.cwd()\n",
    "if ROOT.name == \"notebooks\":   # si la notebook está dentro de /notebooks\n",
    "    ROOT = ROOT.parent         # sube a la raíz del proyecto\n",
    "\n",
    "if str(ROOT) not in sys.path:\n",
    "    sys.path.insert(0, str(ROOT))\n",
    "\n",
    "print(\"ROOT =\", ROOT)\n",
    "print(\"src existe:\", (ROOT / \"src\").exists())\n",
    "print(\"data existe:\", (ROOT / \"data\").exists())\n"
   ]
  },
  {
   "cell_type": "code",
   "execution_count": 6,
   "id": "72e604d3",
   "metadata": {},
   "outputs": [
    {
     "name": "stdout",
     "output_type": "stream",
     "text": [
      "ROOT = c:\\Users\\USUARIO\\Downloads\\fast-prompting-poc\\fast-prompting-poc\n",
      "src existe: True\n",
      "data existe: True\n",
      "src contiene: ['prompting.py', '__init__.py', '__pycache__']\n"
     ]
    },
    {
     "data": {
      "text/plain": [
       "(2, 'Vanina')"
      ]
     },
     "execution_count": 6,
     "metadata": {},
     "output_type": "execute_result"
    }
   ],
   "source": [
    "# !pip install openai tiktoken pandas  # opcional si usarás una API real\n",
    "import json, pandas as pd\n",
    "from pathlib import Path\n",
    "from src.prompting import PromptVariant, run_variant, coverage_score, estimate_cost\n",
    "\n",
    "DATA = ROOT / \"data\" / \"sample_requests.json\"\n",
    "MODEL_COST = {\"prompt\": 0.0005, \"completion\": 0.0015}  # USD/1k tokens (ejemplo)\n",
    "\n",
    "requests = json.loads(DATA.read_text(encoding=\"utf-8\"))\n",
    "len(requests), requests[0][\"cliente\"] \n"
   ]
  },
  {
   "cell_type": "markdown",
   "id": "d5ad3ab4",
   "metadata": {},
   "source": [
    "## Definición de variantes de Prompting"
   ]
  },
  {
   "cell_type": "code",
   "execution_count": 9,
   "id": "5193c588",
   "metadata": {},
   "outputs": [
    {
     "data": {
      "text/plain": [
       "[PromptVariant(name='V0-baseline', system='Eres un asistente que redacta propuestas de viaje de forma cordial.', template='Con estos datos, crea un itinerario resumido de 7 días, un mensaje de WhatsApp y filtros para HotelDO.\\ncliente: {cliente}\\norigen: {origen}\\ndestino: {destino}\\nfechas desde {fechas[desde]} hasta {fechas[hasta]}\\nadultos: {pasajeros[adultos]} menores: {pasajeros[menores]}\\nhabitaciones (dobles/triples/simples): {habitaciones[dobles]}/{habitaciones[triples]}/{habitaciones[simples]}\\npreferencias: {preferencias}\\npresupuesto: {presupuesto_ars}\\npago: {pago}\\ncomentarios: {comentarios}', few_shots=None, checklist=None),\n",
       " PromptVariant(name='V1-FAST', system='Rol: Eres un experto en *travel design* para un operador que cotiza con HotelDO.\\nObjetivo: Convertir respuestas en un brief ACCIONABLE.\\nEstilo: Claro, breve, cordial; español neutro; sin emojis.\\nFormato salida: JSON con claves exactas: itinerario_resumido, mensaje_whatsapp, hoteldo_filtros.\\nRestricciones: itinerario de 7 días; usar fechas originales; incluir destino, categoría, desayuno.', template='Genera la salida solicitada. Usa los datos:\\ncliente: {cliente}\\norigen: {origen}\\ndestino: {destino}\\nfechas desde {fechas[desde]} hasta {fechas[hasta]}\\nadultos: {pasajeros[adultos]} menores: {pasajeros[menores]}\\nhabitaciones (D/T/S): {habitaciones[dobles]}/{habitaciones[triples]}/{habitaciones[simples]}\\npreferencias: {preferencias}\\npresupuesto: {presupuesto_ars}\\npago: {pago}\\ncomentarios: {comentarios}\\nValida que todas las fechas estén presentes. Devuelve solo JSON.', few_shots=None, checklist=['itinerario_resumido', 'mensaje_whatsapp', 'hoteldo_filtros', 'fecha_desde', 'fecha_hasta', 'destino']),\n",
       " PromptVariant(name='V2-FAST+FewShot', system=\"Rol: Travel designer senior.\\nObjetivo: Generar brief accionable (JSON) y minimizar re‑trabajo.\\nEstilo: Claro, conciso, español neutro.\\nSalida: JSON con: itinerario_resumido, mensaje_whatsapp, hoteldo_filtros.\\nReglas: 7 días; no inventes datos faltantes (marca 'N/D'); conserva fechas; incluye categoria y desayuno.\", template=\"Convierte las respuestas del cliente a JSON. Si falta un campo, usar 'N/D'.\\nDatos:\\ncliente: {cliente}\\norigen: {origen}\\ndestino: {destino}\\nfechas desde {fechas[desde]} hasta {fechas[hasta]}\\nadultos: {pasajeros[adultos]} menores: {pasajeros[menores]}\\nhabitaciones (D/T/S): {habitaciones[dobles]}/{habitaciones[triples]}/{habitaciones[simples]}\\npreferencias: {preferencias}\\npresupuesto: {presupuesto_ars}\\npago: {pago}\\ncomentarios: {comentarios}\\nDevuelve solo JSON.\", few_shots=[{'user': 'Ejemplo -> destino: Florianópolis, fechas 2025-12-01 a 2025-12-08, 2 adultos, desayuno y 3* cerca de playa.', 'assistant': '{\"itinerario_resumido\": \"D1-7 en Florianópolis con balance playa/centro; traslado y 2 excursiones sugeridas.\", \"mensaje_whatsapp\": \"¡Hola! Te comparto propuesta para Floria (01–08 dic). ¿Confirmamos desayuno y 3* cerca de la playa?\", \"hoteldo_filtros\": {\"destino\": \"Florianópolis\", \"fecha_desde\": \"2025-12-01\", \"fecha_hasta\": \"2025-12-08\", \"adultos\": 2, \"menores\": 0, \"categoria\": \"3*\", \"desayuno\": true}}'}, {'user': 'Ejemplo -> destino: Buenos Aires, fechas 2025-10-03 a 2025-10-10, 1 adulto, céntrico, 4*, sin desayuno.', 'assistant': '{\"itinerario_resumido\": \"D1-7 BA: city tour, museos, 2 días libres; sugerencia de feria y tango.\", \"mensaje_whatsapp\": \"Te dejo propuesta BA (03–10 oct). ¿Preferís 4* céntrico sin desayuno o agregamos?\", \"hoteldo_filtros\": {\"destino\": \"Buenos Aires\", \"fecha_desde\": \"2025-10-03\", \"fecha_hasta\": \"2025-10-10\", \"adultos\": 1, \"menores\": 0, \"categoria\": \"4*\", \"desayuno\": false}}'}], checklist=['itinerario_resumido', 'mensaje_whatsapp', 'hoteldo_filtros', 'destino', 'fecha_desde', 'fecha_hasta'])]"
      ]
     },
     "execution_count": 9,
     "metadata": {},
     "output_type": "execute_result"
    }
   ],
   "source": [
    "V0 = PromptVariant(\n",
    "    name=\"V0-baseline\",\n",
    "    system=\"Eres un asistente que redacta propuestas de viaje de forma cordial.\",\n",
    "    template=(\n",
    "        \"Con estos datos, crea un itinerario resumido de 7 días, un mensaje de WhatsApp y filtros para HotelDO.\\n\"\n",
    "        \"cliente: {cliente}\\n\"\n",
    "        \"origen: {origen}\\n\"\n",
    "        \"destino: {destino}\\n\"\n",
    "        \"fechas desde {fechas[desde]} hasta {fechas[hasta]}\\n\"\n",
    "        \"adultos: {pasajeros[adultos]} menores: {pasajeros[menores]}\\n\"\n",
    "        \"habitaciones (dobles/triples/simples): {habitaciones[dobles]}/{habitaciones[triples]}/{habitaciones[simples]}\\n\"\n",
    "        \"preferencias: {preferencias}\\n\"\n",
    "        \"presupuesto: {presupuesto_ars}\\n\"\n",
    "        \"pago: {pago}\\n\"\n",
    "        \"comentarios: {comentarios}\"\n",
    "    )\n",
    ")\n",
    "\n",
    "V1 = PromptVariant(\n",
    "    name=\"V1-FAST\",\n",
    "    system=(\n",
    "        \"Rol: Eres un experto en *travel design* para un operador que cotiza con HotelDO.\\n\"\n",
    "        \"Objetivo: Convertir respuestas en un brief ACCIONABLE.\\n\"\n",
    "        \"Estilo: Claro, breve, cordial; español neutro; sin emojis.\\n\"\n",
    "        \"Formato salida: JSON con claves exactas: itinerario_resumido, mensaje_whatsapp, hoteldo_filtros.\\n\"\n",
    "        \"Restricciones: itinerario de 7 días; usar fechas originales; incluir destino, categoría, desayuno.\"\n",
    "    ),\n",
    "    template=(\n",
    "        \"Genera la salida solicitada. Usa los datos:\\n\"\n",
    "        \"cliente: {cliente}\\n\"\n",
    "        \"origen: {origen}\\n\"\n",
    "        \"destino: {destino}\\n\"\n",
    "        \"fechas desde {fechas[desde]} hasta {fechas[hasta]}\\n\"\n",
    "        \"adultos: {pasajeros[adultos]} menores: {pasajeros[menores]}\\n\"\n",
    "        \"habitaciones (D/T/S): {habitaciones[dobles]}/{habitaciones[triples]}/{habitaciones[simples]}\\n\"\n",
    "        \"preferencias: {preferencias}\\n\"\n",
    "        \"presupuesto: {presupuesto_ars}\\n\"\n",
    "        \"pago: {pago}\\n\"\n",
    "        \"comentarios: {comentarios}\\n\"\n",
    "        \"Valida que todas las fechas estén presentes. Devuelve solo JSON.\"\n",
    "    ),\n",
    "    checklist=[\n",
    "        r\"itinerario_resumido\",\n",
    "        r\"mensaje_whatsapp\",\n",
    "        r\"hoteldo_filtros\",\n",
    "        r\"fecha_desde\",\n",
    "        r\"fecha_hasta\",\n",
    "        r\"destino\"\n",
    "    ]\n",
    ")\n",
    "\n",
    "fewshots = [\n",
    "    {\n",
    "        \"user\": \"Ejemplo -> destino: Florianópolis, fechas 2025-12-01 a 2025-12-08, 2 adultos, desayuno y 3* cerca de playa.\",\n",
    "        \"assistant\": json.dumps({\n",
    "            \"itinerario_resumido\":\"D1-7 en Florianópolis con balance playa/centro; traslado y 2 excursiones sugeridas.\",\n",
    "            \"mensaje_whatsapp\":\"¡Hola! Te comparto propuesta para Floria (01–08 dic). ¿Confirmamos desayuno y 3* cerca de la playa?\",\n",
    "            \"hoteldo_filtros\":{\"destino\":\"Florianópolis\",\"fecha_desde\":\"2025-12-01\",\"fecha_hasta\":\"2025-12-08\",\"adultos\":2,\"menores\":0,\"categoria\":\"3*\",\"desayuno\":True}\n",
    "        }, ensure_ascii=False)\n",
    "    },\n",
    "    {\n",
    "        \"user\": \"Ejemplo -> destino: Buenos Aires, fechas 2025-10-03 a 2025-10-10, 1 adulto, céntrico, 4*, sin desayuno.\",\n",
    "        \"assistant\": json.dumps({\n",
    "            \"itinerario_resumido\":\"D1-7 BA: city tour, museos, 2 días libres; sugerencia de feria y tango.\",\n",
    "            \"mensaje_whatsapp\":\"Te dejo propuesta BA (03–10 oct). ¿Preferís 4* céntrico sin desayuno o agregamos?\",\n",
    "            \"hoteldo_filtros\":{\"destino\":\"Buenos Aires\",\"fecha_desde\":\"2025-10-03\",\"fecha_hasta\":\"2025-10-10\",\"adultos\":1,\"menores\":0,\"categoria\":\"4*\",\"desayuno\":False}\n",
    "        }, ensure_ascii=False)\n",
    "    }\n",
    "]\n",
    "\n",
    "V2 = PromptVariant(\n",
    "    name=\"V2-FAST+FewShot\",\n",
    "    system=(\n",
    "        \"Rol: Travel designer senior.\\n\"\n",
    "        \"Objetivo: Generar brief accionable (JSON) y minimizar re‑trabajo.\\n\"\n",
    "        \"Estilo: Claro, conciso, español neutro.\\n\"\n",
    "        \"Salida: JSON con: itinerario_resumido, mensaje_whatsapp, hoteldo_filtros.\\n\"\n",
    "        \"Reglas: 7 días; no inventes datos faltantes (marca 'N/D'); conserva fechas; incluye categoria y desayuno.\"\n",
    "    ),\n",
    "    template=(\n",
    "        \"Convierte las respuestas del cliente a JSON. Si falta un campo, usar 'N/D'.\\n\"\n",
    "        \"Datos:\\n\"\n",
    "        \"cliente: {cliente}\\n\"\n",
    "        \"origen: {origen}\\n\"\n",
    "        \"destino: {destino}\\n\"\n",
    "        \"fechas desde {fechas[desde]} hasta {fechas[hasta]}\\n\"\n",
    "        \"adultos: {pasajeros[adultos]} menores: {pasajeros[menores]}\\n\"\n",
    "        \"habitaciones (D/T/S): {habitaciones[dobles]}/{habitaciones[triples]}/{habitaciones[simples]}\\n\"\n",
    "        \"preferencias: {preferencias}\\n\"\n",
    "        \"presupuesto: {presupuesto_ars}\\n\"\n",
    "        \"pago: {pago}\\n\"\n",
    "        \"comentarios: {comentarios}\\n\"\n",
    "        \"Devuelve solo JSON.\"\n",
    "    ),\n",
    "    few_shots=fewshots,\n",
    "    checklist=[r\"itinerario_resumido\", r\"mensaje_whatsapp\", r\"hoteldo_filtros\", r\"destino\", r\"fecha_desde\", r\"fecha_hasta\"]\n",
    ")\n",
    "variants = [V0, V1, V2]\n",
    "variants\n"
   ]
  },
  {
   "cell_type": "markdown",
   "id": "e68c728f",
   "metadata": {},
   "source": [
    "## Ejecución y evaluación"
   ]
  },
  {
   "cell_type": "code",
   "execution_count": 11,
   "id": "3ca87dc0",
   "metadata": {},
   "outputs": [
    {
     "data": {
      "text/html": [
       "<div>\n",
       "<style scoped>\n",
       "    .dataframe tbody tr th:only-of-type {\n",
       "        vertical-align: middle;\n",
       "    }\n",
       "\n",
       "    .dataframe tbody tr th {\n",
       "        vertical-align: top;\n",
       "    }\n",
       "\n",
       "    .dataframe thead th {\n",
       "        text-align: right;\n",
       "    }\n",
       "</style>\n",
       "<table border=\"1\" class=\"dataframe\">\n",
       "  <thead>\n",
       "    <tr style=\"text-align: right;\">\n",
       "      <th></th>\n",
       "      <th>cliente</th>\n",
       "      <th>variant</th>\n",
       "      <th>prompt_tokens</th>\n",
       "      <th>completion_tokens</th>\n",
       "      <th>cost_usd_est</th>\n",
       "      <th>coverage_score</th>\n",
       "    </tr>\n",
       "  </thead>\n",
       "  <tbody>\n",
       "    <tr>\n",
       "      <th>4</th>\n",
       "      <td>Grupo empresa</td>\n",
       "      <td>V1-FAST</td>\n",
       "      <td>217</td>\n",
       "      <td>171</td>\n",
       "      <td>0.000365</td>\n",
       "      <td>5.0</td>\n",
       "    </tr>\n",
       "    <tr>\n",
       "      <th>5</th>\n",
       "      <td>Grupo empresa</td>\n",
       "      <td>V2-FAST+FewShot</td>\n",
       "      <td>445</td>\n",
       "      <td>171</td>\n",
       "      <td>0.000479</td>\n",
       "      <td>5.0</td>\n",
       "    </tr>\n",
       "    <tr>\n",
       "      <th>3</th>\n",
       "      <td>Grupo empresa</td>\n",
       "      <td>V0-baseline</td>\n",
       "      <td>139</td>\n",
       "      <td>134</td>\n",
       "      <td>0.000271</td>\n",
       "      <td>4.0</td>\n",
       "    </tr>\n",
       "    <tr>\n",
       "      <th>1</th>\n",
       "      <td>Vanina</td>\n",
       "      <td>V1-FAST</td>\n",
       "      <td>215</td>\n",
       "      <td>170</td>\n",
       "      <td>0.000363</td>\n",
       "      <td>5.0</td>\n",
       "    </tr>\n",
       "    <tr>\n",
       "      <th>2</th>\n",
       "      <td>Vanina</td>\n",
       "      <td>V2-FAST+FewShot</td>\n",
       "      <td>443</td>\n",
       "      <td>170</td>\n",
       "      <td>0.000477</td>\n",
       "      <td>5.0</td>\n",
       "    </tr>\n",
       "    <tr>\n",
       "      <th>0</th>\n",
       "      <td>Vanina</td>\n",
       "      <td>V0-baseline</td>\n",
       "      <td>137</td>\n",
       "      <td>133</td>\n",
       "      <td>0.000268</td>\n",
       "      <td>4.0</td>\n",
       "    </tr>\n",
       "  </tbody>\n",
       "</table>\n",
       "</div>"
      ],
      "text/plain": [
       "         cliente          variant  prompt_tokens  completion_tokens  \\\n",
       "4  Grupo empresa          V1-FAST            217                171   \n",
       "5  Grupo empresa  V2-FAST+FewShot            445                171   \n",
       "3  Grupo empresa      V0-baseline            139                134   \n",
       "1         Vanina          V1-FAST            215                170   \n",
       "2         Vanina  V2-FAST+FewShot            443                170   \n",
       "0         Vanina      V0-baseline            137                133   \n",
       "\n",
       "   cost_usd_est  coverage_score  \n",
       "4      0.000365             5.0  \n",
       "5      0.000479             5.0  \n",
       "3      0.000271             4.0  \n",
       "1      0.000363             5.0  \n",
       "2      0.000477             5.0  \n",
       "0      0.000268             4.0  "
      ]
     },
     "execution_count": 11,
     "metadata": {},
     "output_type": "execute_result"
    }
   ],
   "source": [
    "from src.prompting import estimate_cost  # opcional si lo querés usar directo\n",
    "\n",
    "rows = []\n",
    "all_outputs = []\n",
    "for req in requests:\n",
    "    for v in variants:\n",
    "        res = run_variant(v, req, MODEL_COST)\n",
    "        score = coverage_score(res)\n",
    "        rows.append({\n",
    "            \"cliente\": req[\"cliente\"],\n",
    "            \"variant\": res[\"variant\"],\n",
    "            \"prompt_tokens\": res[\"prompt_tokens\"],\n",
    "            \"completion_tokens\": res[\"completion_tokens\"],\n",
    "            \"cost_usd_est\": round(res[\"cost_usd_est\"], 6),\n",
    "            \"coverage_score\": score\n",
    "        })\n",
    "        all_outputs.append(res)\n",
    "\n",
    "df = pd.DataFrame(rows)\n",
    "df.sort_values([\"cliente\",\"coverage_score\",\"cost_usd_est\",\"variant\"], ascending=[True, False, True, True], inplace=True)\n",
    "df\n"
   ]
  },
  {
   "cell_type": "markdown",
   "id": "be7dc91b",
   "metadata": {},
   "source": [
    "### Selección por mejor *coverage* y menor costo"
   ]
  },
  {
   "cell_type": "code",
   "execution_count": 12,
   "id": "de3bb173",
   "metadata": {},
   "outputs": [
    {
     "data": {
      "text/html": [
       "<div>\n",
       "<style scoped>\n",
       "    .dataframe tbody tr th:only-of-type {\n",
       "        vertical-align: middle;\n",
       "    }\n",
       "\n",
       "    .dataframe tbody tr th {\n",
       "        vertical-align: top;\n",
       "    }\n",
       "\n",
       "    .dataframe thead th {\n",
       "        text-align: right;\n",
       "    }\n",
       "</style>\n",
       "<table border=\"1\" class=\"dataframe\">\n",
       "  <thead>\n",
       "    <tr style=\"text-align: right;\">\n",
       "      <th></th>\n",
       "      <th>cliente</th>\n",
       "      <th>variant</th>\n",
       "      <th>prompt_tokens</th>\n",
       "      <th>completion_tokens</th>\n",
       "      <th>cost_usd_est</th>\n",
       "      <th>coverage_score</th>\n",
       "    </tr>\n",
       "  </thead>\n",
       "  <tbody>\n",
       "    <tr>\n",
       "      <th>3</th>\n",
       "      <td>Grupo empresa</td>\n",
       "      <td>V0-baseline</td>\n",
       "      <td>139</td>\n",
       "      <td>134</td>\n",
       "      <td>0.000271</td>\n",
       "      <td>4.0</td>\n",
       "    </tr>\n",
       "    <tr>\n",
       "      <th>0</th>\n",
       "      <td>Vanina</td>\n",
       "      <td>V0-baseline</td>\n",
       "      <td>137</td>\n",
       "      <td>133</td>\n",
       "      <td>0.000268</td>\n",
       "      <td>4.0</td>\n",
       "    </tr>\n",
       "  </tbody>\n",
       "</table>\n",
       "</div>"
      ],
      "text/plain": [
       "         cliente      variant  prompt_tokens  completion_tokens  cost_usd_est  \\\n",
       "3  Grupo empresa  V0-baseline            139                134      0.000271   \n",
       "0         Vanina  V0-baseline            137                133      0.000268   \n",
       "\n",
       "   coverage_score  \n",
       "3             4.0  \n",
       "0             4.0  "
      ]
     },
     "execution_count": 12,
     "metadata": {},
     "output_type": "execute_result"
    }
   ],
   "source": [
    "best = df.sort_values(['cliente','coverage_score','cost_usd_est']).groupby('cliente').head(1)\n",
    "best\n"
   ]
  },
  {
   "cell_type": "markdown",
   "id": "cd04c1c7",
   "metadata": {},
   "source": [
    "## Inspeccionar un resultado"
   ]
  },
  {
   "cell_type": "code",
   "execution_count": 13,
   "id": "d49659ea",
   "metadata": {},
   "outputs": [
    {
     "data": {
      "text/plain": [
       "('V1-FAST',\n",
       " {'itinerario_resumido': 'Día 1-7 en Río de Janeiro (GIG). Actividades balanceadas (city tour, playa, libre). Ventana: 2025-11-10 a 2025-11-17.',\n",
       "  'mensaje_whatsapp': '¡Hola! Te paso una propuesta inicial para Río de Janeiro (GIG) (2025-11-10↔2025-11-17) para 2 adultos y 0 menores. ¿Querés que coticemos con desayuno y cerca de la playa?',\n",
       "  'hoteldo_filtros': {'destino': 'Río de Janeiro (GIG)',\n",
       "   'fecha_desde': '2025-11-10',\n",
       "   'fecha_hasta': '2025-11-17',\n",
       "   'adultos': 2,\n",
       "   'menores': 0,\n",
       "   'categoria': '3-4*',\n",
       "   'desayuno': True},\n",
       "  'checks': [{'itinerario_resumido': 'OK'},\n",
       "   {'mensaje_whatsapp': 'OK'},\n",
       "   {'hoteldo_filtros': 'OK'},\n",
       "   {'fecha_desde': 'OK'},\n",
       "   {'fecha_hasta': 'OK'},\n",
       "   {'destino': 'OK'}]})"
      ]
     },
     "execution_count": 13,
     "metadata": {},
     "output_type": "execute_result"
    }
   ],
   "source": [
    "# Elige índice a inspeccionar (0..len(all_outputs)-1)\n",
    "idx = 1\n",
    "all_outputs[idx][\"variant\"], all_outputs[idx][\"output\"]\n"
   ]
  },
  {
   "cell_type": "code",
   "execution_count": null,
   "id": "fed2dbe1",
   "metadata": {},
   "outputs": [],
   "source": []
  },
  {
   "cell_type": "markdown",
   "id": "b2459286",
   "metadata": {},
   "source": [
    "## Conclusiones rápidas"
   ]
  },
  {
   "cell_type": "markdown",
   "id": "413961bc",
   "metadata": {},
   "source": [
    "- **V1 (FAST)** y **V2 (FAST+Few‑Shot)** tienden a mejorar la **cobertura** con costos similares (gracias al formato JSON y checklist).\n",
    "- Forzar **JSON** y chequear campos críticos evita re‑intentos (menos costo total).\n",
    "- **Few‑Shot** ayuda a estilo consistente en mensajes de WhatsApp y estructura de filtros.\n",
    "- Para producción: reemplazar el **mock** por una llamada real y activar **batching** (si el proveedor lo soporta)."
   ]
  }
 ],
 "metadata": {
  "kernelspec": {
   "display_name": "Python 3",
   "language": "python",
   "name": "python3"
  },
  "language_info": {
   "codemirror_mode": {
    "name": "ipython",
    "version": 3
   },
   "file_extension": ".py",
   "mimetype": "text/x-python",
   "name": "python",
   "nbconvert_exporter": "python",
   "pygments_lexer": "ipython3",
   "version": "3.13.7"
  }
 },
 "nbformat": 4,
 "nbformat_minor": 5
}
