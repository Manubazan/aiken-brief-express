{
 "cells": [
  {
   "cell_type": "markdown",
   "id": "afba23d5",
   "metadata": {},
   "source": [
    "# Fast Prompting en Acción — POC (Turismo)\n",
    "**Objetivo**: Dado un set de respuestas de clientes, generamos:\n",
    "\n",
    "- Itinerario resumido (7 días)\n",
    "- Mensaje de cotización para WhatsApp\n",
    "- Filtros para HotelDO\n",
    "\n",
    "Probamos 3 variantes de prompting (Baseline, FAST, FAST+Few‑Shot), medimos *tokens* y costo estimado, y comparamos cobertura."
   ]
  },
  {
   "cell_type": "code",
   "execution_count": 1,
   "id": "72e604d3",
   "metadata": {},
   "outputs": [
    {
     "ename": "ModuleNotFoundError",
     "evalue": "No module named 'src'",
     "output_type": "error",
     "traceback": [
      "\u001b[31m---------------------------------------------------------------------------\u001b[39m",
      "\u001b[31mModuleNotFoundError\u001b[39m                       Traceback (most recent call last)",
      "\u001b[36mCell\u001b[39m\u001b[36m \u001b[39m\u001b[32mIn[1]\u001b[39m\u001b[32m, line 4\u001b[39m\n\u001b[32m      2\u001b[39m \u001b[38;5;28;01mimport\u001b[39;00m\u001b[38;5;250m \u001b[39m\u001b[34;01mjson\u001b[39;00m,\u001b[38;5;250m \u001b[39m\u001b[34;01mpandas\u001b[39;00m\u001b[38;5;250m \u001b[39m\u001b[38;5;28;01mas\u001b[39;00m\u001b[38;5;250m \u001b[39m\u001b[34;01mpd\u001b[39;00m\n\u001b[32m      3\u001b[39m \u001b[38;5;28;01mfrom\u001b[39;00m\u001b[38;5;250m \u001b[39m\u001b[34;01mpathlib\u001b[39;00m\u001b[38;5;250m \u001b[39m\u001b[38;5;28;01mimport\u001b[39;00m Path\n\u001b[32m----> \u001b[39m\u001b[32m4\u001b[39m \u001b[38;5;28;01mfrom\u001b[39;00m\u001b[38;5;250m \u001b[39m\u001b[34;01msrc\u001b[39;00m\u001b[34;01m.\u001b[39;00m\u001b[34;01mprompting\u001b[39;00m\u001b[38;5;250m \u001b[39m\u001b[38;5;28;01mimport\u001b[39;00m PromptVariant, run_variant, coverage_score\n\u001b[32m      6\u001b[39m DATA = Path(\u001b[33m'\u001b[39m\u001b[33m../data/sample_requests.json\u001b[39m\u001b[33m'\u001b[39m)\n\u001b[32m      7\u001b[39m MODEL_COST = {\u001b[33m'\u001b[39m\u001b[33mprompt\u001b[39m\u001b[33m'\u001b[39m: \u001b[32m0.0005\u001b[39m, \u001b[33m'\u001b[39m\u001b[33mcompletion\u001b[39m\u001b[33m'\u001b[39m: \u001b[32m0.0015\u001b[39m}  \u001b[38;5;66;03m# USD/1k tokens (ejemplo)\u001b[39;00m\n",
      "\u001b[31mModuleNotFoundError\u001b[39m: No module named 'src'"
     ]
    }
   ],
   "source": [
    "# !pip install openai tiktoken pandas  # opcional si usarás una API real\n",
    "import json, pandas as pd\n",
    "from pathlib import Path\n",
    "from src.prompting import PromptVariant, run_variant, coverage_score\n",
    "\n",
    "DATA = Path('../data/sample_requests.json')\n",
    "MODEL_COST = {'prompt': 0.0005, 'completion': 0.0015}  # USD/1k tokens (ejemplo)\n",
    "requests = json.loads(DATA.read_text(encoding='utf-8'))\n",
    "len(requests), requests[0]['cliente']\n"
   ]
  },
  {
   "cell_type": "markdown",
   "id": "d5ad3ab4",
   "metadata": {},
   "source": [
    "## Definición de variantes de Prompting"
   ]
  },
  {
   "cell_type": "code",
   "execution_count": null,
   "id": "5193c588",
   "metadata": {},
   "outputs": [],
   "source": [
    "V0 = PromptVariant(\n",
    "    name=\"V0-baseline\",\n",
    "    system=\"Eres un asistente que redacta propuestas de viaje de forma cordial.\",\n",
    "    template=(\n",
    "        \"Con estos datos, crea un itinerario resumido de 7 días, un mensaje de WhatsApp y filtros para HotelDO.\\n\"\n",
    "        \"cliente: {cliente}\\n\"\n",
    "        \"origen: {origen}\\n\"\n",
    "        \"destino: {destino}\\n\"\n",
    "        \"fechas desde {fechas[desde]} hasta {fechas[hasta]}\\n\"\n",
    "        \"adultos: {pasajeros[adultos]} menores: {pasajeros[menores]}\\n\"\n",
    "        \"habitaciones (dobles/triples/simples): {habitaciones[dobles]}/{habitaciones[triples]}/{habitaciones[simples]}\\n\"\n",
    "        \"preferencias: {preferencias}\\n\"\n",
    "        \"presupuesto: {presupuesto_ars}\\n\"\n",
    "        \"pago: {pago}\\n\"\n",
    "        \"comentarios: {comentarios}\"\n",
    "    )\n",
    ")\n",
    "\n",
    "V1 = PromptVariant(\n",
    "    name=\"V1-FAST\",\n",
    "    system=(\n",
    "        \"Rol: Eres un experto en *travel design* para un operador que cotiza con HotelDO.\\n\"\n",
    "        \"Objetivo: Convertir respuestas en un brief ACCIONABLE.\\n\"\n",
    "        \"Estilo: Claro, breve, cordial; español neutro; sin emojis.\\n\"\n",
    "        \"Formato salida: JSON con claves exactas: itinerario_resumido, mensaje_whatsapp, hoteldo_filtros.\\n\"\n",
    "        \"Restricciones: itinerario de 7 días; usar fechas originales; incluir destino, categoría, desayuno.\"\n",
    "    ),\n",
    "    template=(\n",
    "        \"Genera la salida solicitada. Usa los datos:\\n\"\n",
    "        \"cliente: {cliente}\\n\"\n",
    "        \"origen: {origen}\\n\"\n",
    "        \"destino: {destino}\\n\"\n",
    "        \"fechas desde {fechas[desde]} hasta {fechas[hasta]}\\n\"\n",
    "        \"adultos: {pasajeros[adultos]} menores: {pasajeros[menores]}\\n\"\n",
    "        \"habitaciones (D/T/S): {habitaciones[dobles]}/{habitaciones[triples]}/{habitaciones[simples]}\\n\"\n",
    "        \"preferencias: {preferencias}\\n\"\n",
    "        \"presupuesto: {presupuesto_ars}\\n\"\n",
    "        \"pago: {pago}\\n\"\n",
    "        \"comentarios: {comentarios}\\n\"\n",
    "        \"Valida que todas las fechas estén presentes. Devuelve solo JSON.\"\n",
    "    ),\n",
    "    checklist=[\n",
    "        r\"itinerario_resumido\",\n",
    "        r\"mensaje_whatsapp\",\n",
    "        r\"hoteldo_filtros\",\n",
    "        r\"fecha_desde\",\n",
    "        r\"fecha_hasta\",\n",
    "        r\"destino\"\n",
    "    ]\n",
    ")\n",
    "\n",
    "fewshots = [\n",
    "    {\n",
    "        \"user\": \"Ejemplo -> destino: Florianópolis, fechas 2025-12-01 a 2025-12-08, 2 adultos, desayuno y 3* cerca de playa.\",\n",
    "        \"assistant\": json.dumps({\n",
    "            \"itinerario_resumido\":\"D1-7 en Florianópolis con balance playa/centro; traslado y 2 excursiones sugeridas.\",\n",
    "            \"mensaje_whatsapp\":\"¡Hola! Te comparto propuesta para Floria (01–08 dic). ¿Confirmamos desayuno y 3* cerca de la playa?\",\n",
    "            \"hoteldo_filtros\":{\"destino\":\"Florianópolis\",\"fecha_desde\":\"2025-12-01\",\"fecha_hasta\":\"2025-12-08\",\"adultos\":2,\"menores\":0,\"categoria\":\"3*\",\"desayuno\":True}\n",
    "        }, ensure_ascii=False)\n",
    "    },\n",
    "    {\n",
    "        \"user\": \"Ejemplo -> destino: Buenos Aires, fechas 2025-10-03 a 2025-10-10, 1 adulto, céntrico, 4*, sin desayuno.\",\n",
    "        \"assistant\": json.dumps({\n",
    "            \"itinerario_resumido\":\"D1-7 BA: city tour, museos, 2 días libres; sugerencia de feria y tango.\",\n",
    "            \"mensaje_whatsapp\":\"Te dejo propuesta BA (03–10 oct). ¿Preferís 4* céntrico sin desayuno o agregamos?\",\n",
    "            \"hoteldo_filtros\":{\"destino\":\"Buenos Aires\",\"fecha_desde\":\"2025-10-03\",\"fecha_hasta\":\"2025-10-10\",\"adultos\":1,\"menores\":0,\"categoria\":\"4*\",\"desayuno\":False}\n",
    "        }, ensure_ascii=False)\n",
    "    }\n",
    "]\n",
    "\n",
    "V2 = PromptVariant(\n",
    "    name=\"V2-FAST+FewShot\",\n",
    "    system=(\n",
    "        \"Rol: Travel designer senior.\\n\"\n",
    "        \"Objetivo: Generar brief accionable (JSON) y minimizar re‑trabajo.\\n\"\n",
    "        \"Estilo: Claro, conciso, español neutro.\\n\"\n",
    "        \"Salida: JSON con: itinerario_resumido, mensaje_whatsapp, hoteldo_filtros.\\n\"\n",
    "        \"Reglas: 7 días; no inventes datos faltantes (marca 'N/D'); conserva fechas; incluye categoria y desayuno.\"\n",
    "    ),\n",
    "    template=(\n",
    "        \"Convierte las respuestas del cliente a JSON. Si falta un campo, usar 'N/D'.\\n\"\n",
    "        \"Datos:\\n\"\n",
    "        \"cliente: {cliente}\\n\"\n",
    "        \"origen: {origen}\\n\"\n",
    "        \"destino: {destino}\\n\"\n",
    "        \"fechas desde {fechas[desde]} hasta {fechas[hasta]}\\n\"\n",
    "        \"adultos: {pasajeros[adultos]} menores: {pasajeros[menores]}\\n\"\n",
    "        \"habitaciones (D/T/S): {habitaciones[dobles]}/{habitaciones[triples]}/{habitaciones[simples]}\\n\"\n",
    "        \"preferencias: {preferencias}\\n\"\n",
    "        \"presupuesto: {presupuesto_ars}\\n\"\n",
    "        \"pago: {pago}\\n\"\n",
    "        \"comentarios: {comentarios}\\n\"\n",
    "        \"Devuelve solo JSON.\"\n",
    "    ),\n",
    "    few_shots=fewshots,\n",
    "    checklist=[r\"itinerario_resumido\", r\"mensaje_whatsapp\", r\"hoteldo_filtros\", r\"destino\", r\"fecha_desde\", r\"fecha_hasta\"]\n",
    ")\n",
    "variants = [V0, V1, V2]\n",
    "variants\n"
   ]
  },
  {
   "cell_type": "markdown",
   "id": "e68c728f",
   "metadata": {},
   "source": [
    "## Ejecución y evaluación"
   ]
  },
  {
   "cell_type": "code",
   "execution_count": null,
   "id": "3ca87dc0",
   "metadata": {},
   "outputs": [],
   "source": [
    "from src.prompting import estimate_cost  # opcional si lo querés usar directo\n",
    "\n",
    "rows = []\n",
    "all_outputs = []\n",
    "for req in requests:\n",
    "    for v in variants:\n",
    "        res = run_variant(v, req, MODEL_COST)\n",
    "        score = coverage_score(res)\n",
    "        rows.append({\n",
    "            \"cliente\": req[\"cliente\"],\n",
    "            \"variant\": res[\"variant\"],\n",
    "            \"prompt_tokens\": res[\"prompt_tokens\"],\n",
    "            \"completion_tokens\": res[\"completion_tokens\"],\n",
    "            \"cost_usd_est\": round(res[\"cost_usd_est\"], 6),\n",
    "            \"coverage_score\": score\n",
    "        })\n",
    "        all_outputs.append(res)\n",
    "\n",
    "df = pd.DataFrame(rows)\n",
    "df.sort_values([\"cliente\",\"coverage_score\",\"cost_usd_est\",\"variant\"], ascending=[True, False, True, True], inplace=True)\n",
    "df\n"
   ]
  },
  {
   "cell_type": "markdown",
   "id": "be7dc91b",
   "metadata": {},
   "source": [
    "### Selección por mejor *coverage* y menor costo"
   ]
  },
  {
   "cell_type": "code",
   "execution_count": null,
   "id": "de3bb173",
   "metadata": {},
   "outputs": [],
   "source": [
    "best = df.sort_values(['cliente','coverage_score','cost_usd_est']).groupby('cliente').head(1)\n",
    "best\n"
   ]
  },
  {
   "cell_type": "markdown",
   "id": "cd04c1c7",
   "metadata": {},
   "source": [
    "## Inspeccionar un resultado"
   ]
  },
  {
   "cell_type": "code",
   "execution_count": null,
   "id": "d49659ea",
   "metadata": {},
   "outputs": [],
   "source": [
    "# Elige índice a inspeccionar (0..len(all_outputs)-1)\n",
    "idx = 0\n",
    "all_outputs[idx][\"variant\"], all_outputs[idx][\"output\"]\n"
   ]
  },
  {
   "cell_type": "markdown",
   "id": "b2459286",
   "metadata": {},
   "source": [
    "## Conclusiones rápidas"
   ]
  },
  {
   "cell_type": "markdown",
   "id": "413961bc",
   "metadata": {},
   "source": [
    "- **V1 (FAST)** y **V2 (FAST+Few‑Shot)** tienden a mejorar la **cobertura** con costos similares (gracias al formato JSON y checklist).\n",
    "- Forzar **JSON** y chequear campos críticos evita re‑intentos (menos costo total).\n",
    "- **Few‑Shot** ayuda a estilo consistente en mensajes de WhatsApp y estructura de filtros.\n",
    "- Para producción: reemplazar el **mock** por una llamada real y activar **batching** (si el proveedor lo soporta)."
   ]
  }
 ],
 "metadata": {
  "kernelspec": {
   "display_name": "Python 3",
   "language": "python",
   "name": "python3"
  },
  "language_info": {
   "codemirror_mode": {
    "name": "ipython",
    "version": 3
   },
   "file_extension": ".py",
   "mimetype": "text/x-python",
   "name": "python",
   "nbconvert_exporter": "python",
   "pygments_lexer": "ipython3",
   "version": "3.13.7"
  }
 },
 "nbformat": 4,
 "nbformat_minor": 5
}
